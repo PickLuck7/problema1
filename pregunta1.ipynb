{
  "nbformat": 4,
  "nbformat_minor": 0,
  "metadata": {
    "colab": {
      "provenance": []
    },
    "kernelspec": {
      "name": "python3",
      "display_name": "Python 3"
    },
    "language_info": {
      "name": "python"
    }
  },
  "cells": [
    {
      "cell_type": "markdown",
      "source": [
        "## Pregunta 1: ¿Qué características influyen más en el valor de una casa?\n",
        "\n",
        "### Pasos:\n",
        "1. Preprocesar los datos (manejar valores faltantes y variables categóricas).\n",
        "2. Entrenar un modelo de regresión lineal.\n",
        "3. Revisar los coeficientes del modelo para identificar las variables más influyentes."
      ],
      "metadata": {
        "id": "0ZjCEwwq1l4Y"
      }
    },
    {
      "cell_type": "code",
      "source": [
        "# Importar librerías necesarias\n",
        "import pandas as pd\n",
        "from sklearn.impute import SimpleImputer\n",
        "from sklearn.preprocessing import OneHotEncoder\n",
        "from sklearn.model_selection import train_test_split\n",
        "from sklearn.linear_model import LinearRegression"
      ],
      "metadata": {
        "id": "7TcyHqrZ8uT6"
      },
      "execution_count": 9,
      "outputs": []
    },
    {
      "cell_type": "code",
      "source": [
        "# Cargar el dataset\n",
        "file_path = 'housing.csv'\n",
        "housing_data = pd.read_csv(file_path)"
      ],
      "metadata": {
        "id": "u3Jnx5tA8weo"
      },
      "execution_count": 10,
      "outputs": []
    },
    {
      "cell_type": "code",
      "source": [
        "# Imputar valores faltantes en 'total_bedrooms' con la media\n",
        "imputer = SimpleImputer(strategy='mean')\n",
        "housing_data['total_bedrooms'] = imputer.fit_transform(housing_data[['total_bedrooms']])"
      ],
      "metadata": {
        "id": "1mLQEt_580Pm"
      },
      "execution_count": 11,
      "outputs": []
    },
    {
      "cell_type": "code",
      "source": [
        "# Codificar la variable categórica 'ocean_proximity' usando OneHotEncoding\n",
        "encoder = OneHotEncoder(drop='first')\n",
        "ocean_proximity_encoded = encoder.fit_transform(housing_data[['ocean_proximity']]).toarray()\n",
        "ocean_proximity_df = pd.DataFrame(ocean_proximity_encoded, columns=encoder.get_feature_names_out(['ocean_proximity']))"
      ],
      "metadata": {
        "id": "Hccwea-m82Kb"
      },
      "execution_count": 12,
      "outputs": []
    },
    {
      "cell_type": "code",
      "source": [
        "# Unir la columna codificada a los datos originales\n",
        "housing_data_encoded = pd.concat([housing_data.drop('ocean_proximity', axis=1), ocean_proximity_df], axis=1)"
      ],
      "metadata": {
        "id": "6wHyNSnJ89V0"
      },
      "execution_count": 13,
      "outputs": []
    },
    {
      "cell_type": "code",
      "source": [
        "# Separar variables independientes y dependientes\n",
        "X = housing_data_encoded.drop('median_house_value', axis=1)\n",
        "y = housing_data_encoded['median_house_value']"
      ],
      "metadata": {
        "id": "WCIb7Cga9ARr"
      },
      "execution_count": 14,
      "outputs": []
    },
    {
      "cell_type": "code",
      "source": [
        "# Dividir los datos en conjunto de entrenamiento y prueba\n",
        "X_train, X_test, y_train, y_test = train_test_split(X, y, test_size=0.2, random_state=42)"
      ],
      "metadata": {
        "id": "XBaVjdGN9DN5"
      },
      "execution_count": 15,
      "outputs": []
    },
    {
      "cell_type": "code",
      "source": [
        "# Entrenar el modelo de regresión lineal\n",
        "model = LinearRegression()\n",
        "model.fit(X_train, y_train)"
      ],
      "metadata": {
        "colab": {
          "base_uri": "https://localhost:8080/",
          "height": 75
        },
        "id": "VkGWaE079Fex",
        "outputId": "b909cfe2-d501-409f-86cb-fc90ee73535e"
      },
      "execution_count": 16,
      "outputs": [
        {
          "output_type": "execute_result",
          "data": {
            "text/plain": [
              "LinearRegression()"
            ],
            "text/html": [
              "<style>#sk-container-id-1 {color: black;}#sk-container-id-1 pre{padding: 0;}#sk-container-id-1 div.sk-toggleable {background-color: white;}#sk-container-id-1 label.sk-toggleable__label {cursor: pointer;display: block;width: 100%;margin-bottom: 0;padding: 0.3em;box-sizing: border-box;text-align: center;}#sk-container-id-1 label.sk-toggleable__label-arrow:before {content: \"▸\";float: left;margin-right: 0.25em;color: #696969;}#sk-container-id-1 label.sk-toggleable__label-arrow:hover:before {color: black;}#sk-container-id-1 div.sk-estimator:hover label.sk-toggleable__label-arrow:before {color: black;}#sk-container-id-1 div.sk-toggleable__content {max-height: 0;max-width: 0;overflow: hidden;text-align: left;background-color: #f0f8ff;}#sk-container-id-1 div.sk-toggleable__content pre {margin: 0.2em;color: black;border-radius: 0.25em;background-color: #f0f8ff;}#sk-container-id-1 input.sk-toggleable__control:checked~div.sk-toggleable__content {max-height: 200px;max-width: 100%;overflow: auto;}#sk-container-id-1 input.sk-toggleable__control:checked~label.sk-toggleable__label-arrow:before {content: \"▾\";}#sk-container-id-1 div.sk-estimator input.sk-toggleable__control:checked~label.sk-toggleable__label {background-color: #d4ebff;}#sk-container-id-1 div.sk-label input.sk-toggleable__control:checked~label.sk-toggleable__label {background-color: #d4ebff;}#sk-container-id-1 input.sk-hidden--visually {border: 0;clip: rect(1px 1px 1px 1px);clip: rect(1px, 1px, 1px, 1px);height: 1px;margin: -1px;overflow: hidden;padding: 0;position: absolute;width: 1px;}#sk-container-id-1 div.sk-estimator {font-family: monospace;background-color: #f0f8ff;border: 1px dotted black;border-radius: 0.25em;box-sizing: border-box;margin-bottom: 0.5em;}#sk-container-id-1 div.sk-estimator:hover {background-color: #d4ebff;}#sk-container-id-1 div.sk-parallel-item::after {content: \"\";width: 100%;border-bottom: 1px solid gray;flex-grow: 1;}#sk-container-id-1 div.sk-label:hover label.sk-toggleable__label {background-color: #d4ebff;}#sk-container-id-1 div.sk-serial::before {content: \"\";position: absolute;border-left: 1px solid gray;box-sizing: border-box;top: 0;bottom: 0;left: 50%;z-index: 0;}#sk-container-id-1 div.sk-serial {display: flex;flex-direction: column;align-items: center;background-color: white;padding-right: 0.2em;padding-left: 0.2em;position: relative;}#sk-container-id-1 div.sk-item {position: relative;z-index: 1;}#sk-container-id-1 div.sk-parallel {display: flex;align-items: stretch;justify-content: center;background-color: white;position: relative;}#sk-container-id-1 div.sk-item::before, #sk-container-id-1 div.sk-parallel-item::before {content: \"\";position: absolute;border-left: 1px solid gray;box-sizing: border-box;top: 0;bottom: 0;left: 50%;z-index: -1;}#sk-container-id-1 div.sk-parallel-item {display: flex;flex-direction: column;z-index: 1;position: relative;background-color: white;}#sk-container-id-1 div.sk-parallel-item:first-child::after {align-self: flex-end;width: 50%;}#sk-container-id-1 div.sk-parallel-item:last-child::after {align-self: flex-start;width: 50%;}#sk-container-id-1 div.sk-parallel-item:only-child::after {width: 0;}#sk-container-id-1 div.sk-dashed-wrapped {border: 1px dashed gray;margin: 0 0.4em 0.5em 0.4em;box-sizing: border-box;padding-bottom: 0.4em;background-color: white;}#sk-container-id-1 div.sk-label label {font-family: monospace;font-weight: bold;display: inline-block;line-height: 1.2em;}#sk-container-id-1 div.sk-label-container {text-align: center;}#sk-container-id-1 div.sk-container {/* jupyter's `normalize.less` sets `[hidden] { display: none; }` but bootstrap.min.css set `[hidden] { display: none !important; }` so we also need the `!important` here to be able to override the default hidden behavior on the sphinx rendered scikit-learn.org. See: https://github.com/scikit-learn/scikit-learn/issues/21755 */display: inline-block !important;position: relative;}#sk-container-id-1 div.sk-text-repr-fallback {display: none;}</style><div id=\"sk-container-id-1\" class=\"sk-top-container\"><div class=\"sk-text-repr-fallback\"><pre>LinearRegression()</pre><b>In a Jupyter environment, please rerun this cell to show the HTML representation or trust the notebook. <br />On GitHub, the HTML representation is unable to render, please try loading this page with nbviewer.org.</b></div><div class=\"sk-container\" hidden><div class=\"sk-item\"><div class=\"sk-estimator sk-toggleable\"><input class=\"sk-toggleable__control sk-hidden--visually\" id=\"sk-estimator-id-1\" type=\"checkbox\" checked><label for=\"sk-estimator-id-1\" class=\"sk-toggleable__label sk-toggleable__label-arrow\">LinearRegression</label><div class=\"sk-toggleable__content\"><pre>LinearRegression()</pre></div></div></div></div></div>"
            ]
          },
          "metadata": {},
          "execution_count": 16
        }
      ]
    },
    {
      "cell_type": "code",
      "source": [
        "# Extraer los coeficientes del modelo para analizar la influencia de las características\n",
        "coefficients = pd.Series(model.coef_, index=X.columns)\n",
        "coefficients = coefficients.sort_values(ascending=False)\n",
        "\n",
        "print(\"Las características que más influyen en el valor de una casa son:\")\n",
        "for feature, coef in coefficients.items():\n",
        "  if coef > 0:\n",
        "    print(f\"- {feature}: {coef} (Un valor más alto de {feature} se asocia con un valor de casa más alto)\")\n",
        "  else:\n",
        "    print(f\"- {feature}: {coef} (Un valor más alto de {feature} se asocia con un valor de casa más bajo)\")"
      ],
      "metadata": {
        "colab": {
          "base_uri": "https://localhost:8080/"
        },
        "id": "iuzPylHd8OqN",
        "outputId": "ea623899-4cab-4577-c2ee-c30b3a2b829a"
      },
      "execution_count": 17,
      "outputs": [
        {
          "output_type": "stream",
          "name": "stdout",
          "text": [
            "Las características que más influyen en el valor de una casa son:\n",
            "- ocean_proximity_ISLAND: 136125.0726154177 (Un valor más alto de ocean_proximity_ISLAND se asocia con un valor de casa más alto)\n",
            "- median_income: 39473.97517531756 (Un valor más alto de median_income se asocia con un valor de casa más alto)\n",
            "- ocean_proximity_NEAR OCEAN: 3431.140073154216 (Un valor más alto de ocean_proximity_NEAR OCEAN se asocia con un valor de casa más alto)\n",
            "- housing_median_age: 1102.185083971667 (Un valor más alto de housing_median_age se asocia con un valor de casa más alto)\n",
            "- total_bedrooms: 102.78939539109251 (Un valor más alto de total_bedrooms se asocia con un valor de casa más alto)\n",
            "- households: 48.252752786974725 (Un valor más alto de households se asocia con un valor de casa más alto)\n",
            "- total_rooms: -6.021505665532459 (Un valor más alto de total_rooms se asocia con un valor de casa más bajo)\n",
            "- population: -38.172906426199916 (Un valor más alto de population se asocia con un valor de casa más bajo)\n",
            "- ocean_proximity_NEAR BAY: -5136.642217476632 (Un valor más alto de ocean_proximity_NEAR BAY se asocia con un valor de casa más bajo)\n",
            "- latitude: -25468.35204987842 (Un valor más alto de latitude se asocia con un valor de casa más bajo)\n",
            "- longitude: -26838.273372469055 (Un valor más alto de longitude se asocia con un valor de casa más bajo)\n",
            "- ocean_proximity_INLAND: -39786.65616133179 (Un valor más alto de ocean_proximity_INLAND se asocia con un valor de casa más bajo)\n"
          ]
        }
      ]
    },
    {
      "cell_type": "markdown",
      "source": [
        "## Pregunta 2: ¿Cuál es la precisión del algoritmo generado?\n",
        "\n",
        "### Pasos:\n",
        "1. Predecir los valores en el conjunto de prueba.\n",
        "2. Evaluar la precisión del modelo utilizando el puntaje R²."
      ],
      "metadata": {
        "id": "S5tu3KTF2W2y"
      }
    },
    {
      "cell_type": "code",
      "source": [
        "# Evaluar la precisión del modelo con el puntaje R²\n",
        "r2_score = model.score(X_test, y_test)\n",
        "\n",
        "print(f\"El R² del modelo es: {r2_score}\")\n",
        "print(\"El R² representa la proporción de la varianza en la variable dependiente que es predecible a partir de las variables independientes.\")\n",
        "print(\"Un valor de R² cercano a 1 indica un buen ajuste del modelo a los datos.\")"
      ],
      "metadata": {
        "colab": {
          "base_uri": "https://localhost:8080/"
        },
        "id": "c8EHQdpk2bg8",
        "outputId": "f3fee8f8-3f5b-4f4e-ca41-df7f07f7d469"
      },
      "execution_count": 6,
      "outputs": [
        {
          "output_type": "stream",
          "name": "stdout",
          "text": [
            "El R² del modelo es: 0.6257351821159713\n",
            "El R² representa la proporción de la varianza en la variable dependiente que es predecible a partir de las variables independientes.\n",
            "Un valor de R² cercano a 1 indica un buen ajuste del modelo a los datos.\n"
          ]
        }
      ]
    },
    {
      "cell_type": "markdown",
      "source": [
        "## Pregunta 3: Métricas de evaluación del algoritmo\n",
        "\n",
        "### Pasos:\n",
        "1. Calcular el error absoluto medio (MAE), error cuadrático medio (MSE), la raíz del error cuadrático medio (RMSE) y el puntaje R².\n",
        "2. Interpretar los resultados.\n",
        "\n",
        "**Interpretación:**\n",
        "- **MAE**: Promedio de los errores absolutos.\n",
        "- **MSE**: Penaliza más los errores grandes que los pequeños.\n",
        "- **RMSE**: Raíz cuadrada del MSE, más interpretable en el contexto del problema.\n",
        "- **R²**: Proporción de la varianza explicada por el modelo."
      ],
      "metadata": {
        "id": "9uLve0BM5y7W"
      }
    },
    {
      "cell_type": "code",
      "source": [
        "from sklearn.metrics import mean_absolute_error, mean_squared_error\n",
        "import numpy as np\n",
        "\n",
        "# Predecir los valores del conjunto de prueba\n",
        "y_pred = model.predict(X_test)\n",
        "\n",
        "# Calcular MAE, MSE, RMSE, y R²\n",
        "mae = mean_absolute_error(y_test, y_pred)\n",
        "mse = mean_squared_error(y_test, y_pred)\n",
        "rmse = np.sqrt(mse)\n",
        "r2 = model.score(X_test, y_test)\n",
        "\n",
        "print(f\"MAE: {mae} (Error absoluto medio: indica el promedio de los errores absolutos entre las predicciones y los valores reales)\")\n",
        "print(f\"MSE: {mse} (Error cuadrático medio: indica el promedio de los errores cuadráticos)\")\n",
        "print(f\"RMSE: {rmse} (Raíz del error cuadrático medio: similar al MSE pero en las mismas unidades que la variable objetivo)\")\n",
        "print(f\"R²: {r2} (Coeficiente de determinación: indica la proporción de la varianza en la variable dependiente que se explica por el modelo)\")"
      ],
      "metadata": {
        "colab": {
          "base_uri": "https://localhost:8080/"
        },
        "id": "-Y6YNV4W57lJ",
        "outputId": "1f27c3b9-61a7-4dc7-e98e-c517668bade8"
      },
      "execution_count": 8,
      "outputs": [
        {
          "output_type": "stream",
          "name": "stdout",
          "text": [
            "MAE: 50701.77903133031 (Error absoluto medio: indica el promedio de los errores absolutos entre las predicciones y los valores reales)\n",
            "MSE: 4904399775.949265 (Error cuadrático medio: indica el promedio de los errores cuadráticos)\n",
            "RMSE: 70031.41991955657 (Raíz del error cuadrático medio: similar al MSE pero en las mismas unidades que la variable objetivo)\n",
            "R²: 0.6257351821159713 (Coeficiente de determinación: indica la proporción de la varianza en la variable dependiente que se explica por el modelo)\n"
          ]
        }
      ]
    }
  ]
}